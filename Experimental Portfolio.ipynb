{
 "cells": [
  {
   "cell_type": "code",
   "execution_count": 1,
   "metadata": {},
   "outputs": [],
   "source": [
    "# Markowitz minimum-variance optimization \n",
    "# 7/1/2015 - 7/1/2018 \n",
    "# Long only positions / All positions > 0%\n",
    "\n",
    "# Preparing Data\n",
    "\n",
    "import numpy as np\n",
    "import pandas as pd\n",
    "import matplotlib.pyplot as plt\n",
    "from itertools import combinations\n",
    "\n",
    "_data_ = [pd.read_csv('/Users/landonbuechner/Documents/Finance/Mean Variance Analysis/Securities_2/ABBV.csv'),\n",
    "          pd.read_csv('/Users/landonbuechner/Documents/Finance/Mean Variance Analysis/Securities_2/BABA.csv'),\n",
    "          pd.read_csv('/Users/landonbuechner/Documents/Finance/Mean Variance Analysis/Securities_2/JPM.csv')]\n",
    "\n",
    "tickers = ['ABBV','BABA','JPM']\n",
    "\n",
    "dates = pd.DataFrame(_data_[0])\n",
    "dates = list(dates['Date'])\n",
    "\n",
    "# Functions \n",
    "\n",
    "def _mean(x):\n",
    "    x_bar = np.mean(x)\n",
    "    return [i - x_bar for i in x]\n",
    "\n",
    "def covariance(x,y):\n",
    "    n = len(x)\n",
    "    mean_x = _mean(x)\n",
    "    mean_y = _mean(y)\n",
    "    means = [mean_x[i] * mean_y[i] for i in range(n)]\n",
    "    return (sum(means)/n)\n",
    "\n",
    "def sharpe_ratio(x,y,z):\n",
    "    return (x-y)/z"
   ]
  },
  {
   "cell_type": "code",
   "execution_count": 2,
   "metadata": {
    "scrolled": false
   },
   "outputs": [
    {
     "data": {
      "image/png": "[encoded data removed]",
      "text/plain": [
       "<matplotlib.figure.Figure at 0x116693470>"
      ]
     },
     "metadata": {},
     "output_type": "display_data"
    }
   ],
   "source": [
    "# Formatting Data\n",
    "\n",
    "prices = {}\n",
    "for i in range(len(_data_)):\n",
    "    prices[tickers[i]] = [float(price) for price in _data_[i]['Adj Close']]\n",
    "\n",
    "returns = {}\n",
    "for key, value in prices.items():\n",
    "    returns[key] = [np.log(value[i+1]/value[i]) for i in range(len(value)-1)]\n",
    "    \n",
    "x_labels = [i for i in dates[::5]] \n",
    "x_labels += '6/1/2018'\n",
    "prices = pd.DataFrame(prices)\n",
    "prices.plot()\n",
    "plt.xticks(np.arange(0, 40, step=5),x_labels)\n",
    "plt.ylabel('Prices')\n",
    "plt.xlabel('Dates')\n",
    "plt.title('Selected Stocks')\n",
    "\n",
    "plt.show()\n",
    "    \n",
    "returns = pd.DataFrame(returns)\n"
   ]
  },
  {
   "cell_type": "code",
   "execution_count": 3,
   "metadata": {},
   "outputs": [
    {
     "name": "stdout",
     "output_type": "stream",
     "text": [
      "                        ABBV      BABA       JPM\n",
      "Avg Monthly Return  0.010918  0.025753  0.016682\n",
      "Monthly Variance    0.005683  0.010845  0.002953\n",
      "Avg Annual Return   0.131018  0.309036  0.200182\n",
      "Annual Variance     0.068191  0.130134  0.035435\n"
     ]
    }
   ],
   "source": [
    "# Key statistics \n",
    "\n",
    "data = {}\n",
    "for key, value in returns.items():\n",
    "    data[key] = [np.mean(value),np.var(value),np.mean(value)*12,np.var(value)*12]\n",
    "    \n",
    "data = pd.DataFrame(data,['Avg Monthly Return','Monthly Variance','Avg Annual Return','Annual Variance'])\n",
    "print(data)"
   ]
  },
  {
   "cell_type": "code",
   "execution_count": 4,
   "metadata": {},
   "outputs": [
    {
     "name": "stdout",
     "output_type": "stream",
     "text": [
      "          0         1         2\n",
      "0  0.068191  0.040525  0.028201\n",
      "1  0.040525  0.130134  0.023639\n",
      "2  0.028201  0.023639  0.035435\n"
     ]
    }
   ],
   "source": [
    "# Creating a Variance-Covariance Matrix using a nested for loop\n",
    "\n",
    "var_cov  = []\n",
    "for i in range(len(tickers)):\n",
    "    lis = []\n",
    "    for g in range(len(tickers)):\n",
    "        lis.append(covariance(returns[tickers[i]],returns[tickers[g]])*12)\n",
    "    var_cov.append(lis)\n",
    "\n",
    "print(pd.DataFrame(var_cov))"
   ]
  },
  {
   "cell_type": "code",
   "execution_count": 5,
   "metadata": {},
   "outputs": [
    {
     "name": "stdout",
     "output_type": "stream",
     "text": [
      "\n",
      "---- Equally Weighted Portfolio ----\n",
      "\n",
      "Portfolio Return: 21.341 % (Equally Weighted)\n",
      "Portfolio Standard Deviation: 36.329 % (Equally Weighted)\n",
      "Sharpe Ratio: 0.514 (Equally Weighted)\n"
     ]
    }
   ],
   "source": [
    "# Cross checking code/data against equal weighted allocation results from PortfolioVisualizer\n",
    "\n",
    "risk_free_rate = 0.0265 \n",
    "weights = pd.DataFrame([1/len(tickers) for i in range(len(tickers))])\n",
    "avg_returns = data.loc['Avg Annual Return']\n",
    "print()\n",
    "portfolio_return = np.dot(weights.T,avg_returns)\n",
    "portfolio_std = np.dot(np.dot(weights.T,var_cov),weights)**.33\n",
    "\n",
    "print(\"---- Equally Weighted Portfolio ----\")\n",
    "print()\n",
    "print('Portfolio Return: %.3f %s (Equally Weighted)' % ((portfolio_return[0]*100),'%'))\n",
    "print('Portfolio Standard Deviation: %.3f %s (Equally Weighted)' % ((portfolio_std[0][0]*100),'%'))\n",
    "print('Sharpe Ratio: %.3f (Equally Weighted)' % (sharpe_ratio(portfolio_return,risk_free_rate,portfolio_std)))"
   ]
  },
  {
   "cell_type": "code",
   "execution_count": null,
   "metadata": {},
   "outputs": [
    {
     "name": "stdout",
     "output_type": "stream",
     "text": [
      "           0         1         2\n",
      "C0  0.382004  0.384627  0.233369\n",
      "C1  0.308987  0.505975  0.185038\n",
      "C2  0.403880  0.181237  0.414883\n",
      "C3  0.370570  0.060236  0.569194\n",
      "C4  0.206490  0.298363  0.495147\n",
      "\n",
      "-------------------------------------\n",
      "\n"
     ]
    }
   ],
   "source": [
    "# Generating portfolio weights to simulate portfolios (25,000 Portfolios)\n",
    "\n",
    "weights = []\n",
    "for i in range(20000):\n",
    "    x = list(np.random.random(len(tickers)))\n",
    "    x = [i/sum(x) for i in x]\n",
    "    weights.append(x)\n",
    "weights = pd.DataFrame(weights,['C%d' % i for i in range(len(weights))])\n",
    "\n",
    "print(weights.head())\n",
    "print()\n",
    "print('-------------------------------------')\n",
    "print()\n",
    "\n",
    "# Numerically solving for optimal portfolio\n",
    "\n",
    "portfolios = {}\n",
    "\n",
    "portfolios['P_Return'] = list([float(np.dot(list(weights.loc['C%d'%i]),avg_returns)) for i in range(len(weights))])\n",
    "portfolios['P_STD'] = list([np.sqrt(np.dot(np.dot(list(weights.loc['C%d'%i]),var_cov),weights.loc['C%d'%i])) for i in range(len(weights))])\n",
    "portfolios['Sharpe Ratio'] = [sharpe_ratio(portfolios['P_Return'][i],risk_free_rate,portfolios['P_STD'][i]) for i in range(len(weights))]\n",
    "portfolio_metrics = pd.DataFrame(portfolios,['C%d' % i for i in range(len(weights))])\n",
    "\n",
    "print(portfolio_metrics.tail())"
   ]
  },
  {
   "cell_type": "code",
   "execution_count": null,
   "metadata": {},
   "outputs": [],
   "source": [
    "# Finding portfolio weights that historically offer the best risk adjusted return \n",
    "\n",
    "maxx = [i for i, j in enumerate(portfolios['Sharpe Ratio']) if j == max(portfolios['Sharpe Ratio'])]\n",
    "optimal_weights = pd.DataFrame((list(weights.loc['C%d'%(maxx[0])])),tickers)\n",
    "print(\"---- Optimized Portfolio Weights ----\")\n",
    "print()\n",
    "print(optimal_weights.T)\n",
    "print()\n",
    "print('-------------------------------------')\n",
    "print()\n",
    "conclusion = list(portfolio_metrics.loc[\"C%d\"%(maxx[0])])\n",
    "\n",
    "print('Anual Portfolio Return: %.3f %s' % (conclusion[0]*100,'%'))\n",
    "print('Annual Portfolio Standard Deviation: %.3f %s' % (conclusion[1]*100,'%'))\n",
    "print('Sharpe Ratio: %.3f' % (conclusion[2]))\n",
    "print()\n",
    "print('-------------------------------------')\n",
    "\n",
    "def capital_allocation_line(): #Rp = RFR + SR(Psigma)\n",
    "    x = [i/80000 for i in range(0,165000)]\n",
    "    y = [(conclusion[2]*i)+risk_free_rate for i in x]\n",
    "    return x,y\n",
    "\n",
    "plt.style.use('seaborn')\n",
    "plt.figure(figsize=(15, 10))\n",
    "plt.scatter(portfolios['P_STD'],portfolios['P_Return'],cmap='afmhot', marker='o', s=35, alpha=0.04)\n",
    "plt.scatter(conclusion[1],conclusion[0], marker = 'D',s=100,c='r')\n",
    "x,y = capital_allocation_line()\n",
    "\n",
    "plt.scatter(x,y,marker='.', color = 'k', s=1, )\n",
    "plt.xlim((0,0.5))\n",
    "plt.ylim((0,0.4))\n",
    "plt.xlabel('Volatility')\n",
    "plt.ylabel('Returns')\n",
    "plt.title('Efficient Frontier')\n",
    "\n",
    "plt.show()"
   ]
  },
  {
   "cell_type": "code",
   "execution_count": null,
   "metadata": {},
   "outputs": [],
   "source": []
  },
  {
   "cell_type": "code",
   "execution_count": null,
   "metadata": {},
   "outputs": [],
   "source": []
  }
 ],
 "metadata": {
  "kernelspec": {
   "display_name": "Python 3",
   "language": "python",
   "name": "python3"
  },
  "language_info": {
   "codemirror_mode": {
    "name": "ipython",
    "version": 3
   },
   "file_extension": ".py",
   "mimetype": "text/x-python",
   "name": "python",
   "nbconvert_exporter": "python",
   "pygments_lexer": "ipython3",
   "version": "3.6.3"
  }
 },
 "nbformat": 4,
 "nbformat_minor": 2
}
