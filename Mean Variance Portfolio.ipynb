{
 "cells": [
  {
   "cell_type": "code",
   "execution_count": 111,
   "metadata": {},
   "outputs": [
    {
     "name": "stdout",
     "output_type": "stream",
     "text": [
      "37\n",
      "37\n",
      "37\n",
      "37\n",
      "37\n",
      "37\n",
      "37\n",
      "37\n",
      "37\n",
      "37\n",
      "37\n"
     ]
    }
   ],
   "source": [
    "import numpy as np\n",
    "import pandas as pd\n",
    "import matplotlib.pyplot as plt\n",
    "from itertools import combinations\n",
    "\n",
    "#Preparing Data\n",
    "\n",
    "_data_ = [pd.read_csv('/Users/landonbuechner/Documents/Finance/Portfolio Optimization/Securities/ABBV.csv'),\n",
    "          pd.read_csv('/Users/landonbuechner/Documents/Finance/Portfolio Optimization/Securities/BABA.csv'),\n",
    "          pd.read_csv('/Users/landonbuechner/Documents/Finance/Portfolio Optimization/Securities/JPM.csv'),\n",
    "          pd.read_csv('/Users/landonbuechner/Documents/Finance/Portfolio Optimization/Securities/LNG.csv'),\n",
    "          pd.read_csv('/Users/landonbuechner/Documents/Finance/Portfolio Optimization/Securities/MA.csv'),\n",
    "          pd.read_csv('/Users/landonbuechner/Documents/Finance/Portfolio Optimization/Securities/MIC.csv'),\n",
    "          pd.read_csv('/Users/landonbuechner/Documents/Finance/Portfolio Optimization/Securities/NBL.csv'),\n",
    "          pd.read_csv('/Users/landonbuechner/Documents/Finance/Portfolio Optimization/Securities/PYPL.csv'),\n",
    "          pd.read_csv('/Users/landonbuechner/Documents/Finance/Portfolio Optimization/Securities/SBUX.csv'),\n",
    "          pd.read_csv('/Users/landonbuechner/Documents/Finance/Portfolio Optimization/Securities/WDAY.csv'),\n",
    "          pd.read_csv('/Users/landonbuechner/Documents/Finance/Portfolio Optimization/Securities/YUM.csv')]\n",
    "tickers = ['ABBV','BABA','JPM','LNG','MA','MIC','NBL','PYPL','SBUX','WDAY','YUM']\n",
    "\n",
    "#Functions \n",
    "\n",
    "def _mean(x):\n",
    "    x_bar = np.mean(x)\n",
    "    return [i - x_bar for i in x]\n",
    "\n",
    "def covariance(x,y):\n",
    "    n = len(x)\n",
    "    mean_x = _mean(x)\n",
    "    mean_y = _mean(y)\n",
    "    means = [mean_x[i] * mean_y[i] for i in range(n)]\n",
    "    return (sum(means)/n)\n",
    "\n",
    "def sharpe_ratio(x,y,z):\n",
    "    return (x-y)/z"
   ]
  },
  {
   "cell_type": "code",
   "execution_count": 117,
   "metadata": {},
   "outputs": [
    {
     "name": "stdout",
     "output_type": "stream",
     "text": [
      "        ABBV      BABA       JPM       LNG        MA       MIC       NBL  \\\n",
      "0   0.005060  0.064949  0.060313  0.104121  0.033305  0.075930  0.048053   \n",
      "1  -0.065685 -0.065101  0.050062  0.252119  0.042685  0.038350  0.101676   \n",
      "2   0.034757  0.103505 -0.052400 -0.024945 -0.093877 -0.063441 -0.171885   \n",
      "3   0.019875 -0.027620 -0.044313  0.040595  0.009163  0.058498 -0.028075   \n",
      "4  -0.201938 -0.014066  0.009796  0.244130  0.005735  0.003616  0.107575   \n",
      "5   0.038810 -0.093041  0.104133  0.214789  0.089442  0.079377  0.017152   \n",
      "6   0.148744  0.169549  0.048596 -0.173688  0.021983  0.093895  0.092842   \n",
      "7  -0.002169 -0.026610 -0.050565  0.055202 -0.083612 -0.099545 -0.065843   \n",
      "8   0.078254 -0.043159 -0.065045 -0.139132 -0.026008 -0.061829 -0.139444   \n",
      "9   0.015521  0.068147 -0.039604  0.190690  0.009286 -0.017184  0.010020   \n",
      "10  0.165582  0.005632  0.049142 -0.155883  0.085288 -0.051078 -0.006165   \n",
      "11  0.083220  0.102879 -0.029024 -0.107940 -0.078382 -0.034509  0.004190   \n",
      "12 -0.036516  0.095052 -0.061468 -0.025258 -0.016645 -0.042027  0.035331   \n",
      "13  0.093767  0.140266  0.013573 -0.016185 -0.051826 -0.056184 -0.038832   \n",
      "14  0.011112  0.058514 -0.039313  0.145397 -0.050300  0.017329  0.036181   \n",
      "15  0.011899  0.068715 -0.153525 -0.080491  0.044205 -0.001588 -0.101698   \n",
      "16  0.052296  0.046798 -0.064250 -0.013854 -0.010222 -0.012955 -0.000093   \n",
      "17  0.021914  0.015573  0.010111 -0.139877 -0.029394  0.085699 -0.043697   \n",
      "18 -0.024409  0.143010 -0.073904 -0.008359 -0.040176 -0.025671  0.088018   \n",
      "19  0.029495 -0.068332  0.031158  0.016366 -0.018033 -0.046225  0.055995   \n",
      "20  0.095353 -0.078421  0.009609  0.041466 -0.033658 -0.026929  0.060315   \n",
      "21 -0.122830 -0.039527  0.045889 -0.071680 -0.056828  0.043581  0.119447   \n",
      "22 -0.016199  0.084788 -0.106699  0.000205  0.011706 -0.022938  0.010368   \n",
      "23 -0.023949  0.164112 -0.004367  0.074787 -0.050964  0.033594 -0.021326   \n",
      "24  0.067452  0.036422  0.004477  0.054793 -0.043959  0.017700  0.195763   \n",
      "25 -0.016341 -0.030585 -0.049581 -0.051247 -0.057575  0.012915 -0.180115   \n",
      "26  0.040712  0.063693 -0.052021 -0.037049 -0.052224  0.037117  0.017429   \n",
      "27  0.065719 -0.026802 -0.043955 -0.033245 -0.012912  0.040642  0.057982   \n",
      "28  0.044937  0.138478 -0.022890 -0.108171 -0.005897  0.018536 -0.106140   \n",
      "29  0.005152  0.026209 -0.078473 -0.049285 -0.110238 -0.032941 -0.046270   \n",
      "30 -0.076084 -0.192637 -0.003725  0.074108 -0.040794  0.493642  0.022868   \n",
      "31  0.018571 -0.033992  0.049063 -0.017553  0.003419  0.092278 -0.019573   \n",
      "32 -0.014604  0.002978  0.010880 -0.084451 -0.017599 -0.062185 -0.110200   \n",
      "33  0.090269  0.351762  0.011347 -0.135807 -0.065779 -0.020888 -0.053803   \n",
      "34 -0.137178 -0.183395  0.026610  0.021699 -0.033109 -0.112529  0.008441   \n",
      "35 -0.107519 -0.100635 -0.100184  0.012969 -0.085959 -0.063131 -0.011835   \n",
      "\n",
      "        PYPL      SBUX      WDAY       YUM  \n",
      "0   0.111408  0.034777  0.112328  0.089239  \n",
      "1   0.109155 -0.018535  0.090334 -0.002254  \n",
      "2  -0.148520 -0.096046 -0.136993  0.119990  \n",
      "3   0.021048  0.019039 -0.058290 -0.031499  \n",
      "4  -0.026310  0.019170  0.049340 -0.007420  \n",
      "5   0.001659 -0.012252  0.234725  0.009352  \n",
      "6  -0.053863  0.043039  0.041477 -0.010621  \n",
      "7  -0.011989 -0.028538 -0.239909 -0.121716  \n",
      "8  -0.014914  0.059882  0.024504  0.028377  \n",
      "9   0.036122  0.024119 -0.011404 -0.039134  \n",
      "10  0.034458 -0.043316  0.015547 -0.010060  \n",
      "11 -0.019797 -0.016150 -0.109850 -0.075468  \n",
      "12  0.002420  0.031854 -0.017249 -0.021771  \n",
      "13 -0.097876  0.034401 -0.078236 -0.001102  \n",
      "14 -0.016701  0.019961  0.056190  0.051172  \n",
      "15  0.058826 -0.088314  0.027604 -0.029718  \n",
      "16 -0.004825  0.038561  0.243602  0.000947  \n",
      "17 -0.007823  0.005418 -0.228907 -0.034149  \n",
      "18 -0.054305 -0.029443  0.001927 -0.001418  \n",
      "19 -0.023996 -0.030873 -0.004212  0.021979  \n",
      "20 -0.103685 -0.028199 -0.048287 -0.028540  \n",
      "21 -0.089923 -0.057427 -0.134475 -0.104345  \n",
      "22 -0.027580  0.082886  0.030259 -0.015301  \n",
      "23 -0.087027  0.077160 -0.051340 -0.023051  \n",
      "24 -0.052079 -0.016171 -0.071608 -0.021661  \n",
      "25 -0.037392  0.016681  0.039990  0.042684  \n",
      "26 -0.125062 -0.020821 -0.051772 -0.011347  \n",
      "27 -0.042761 -0.052915  0.074711 -0.114359  \n",
      "28  0.028258  0.001484  0.012308  0.018766  \n",
      "29 -0.147492  0.010854 -0.164154 -0.035864  \n",
      "30  0.071785 -0.005092 -0.055011  0.038687  \n",
      "31  0.045603 -0.019150 -0.003468 -0.049672  \n",
      "32  0.016747  0.005543  0.018020 -0.022877  \n",
      "33 -0.095298  0.015757 -0.047859  0.068542  \n",
      "34 -0.014516  0.143275  0.078110  0.034674  \n",
      "35 -0.092829 -0.055155 -0.098592 -0.005736  \n"
     ]
    }
   ],
   "source": [
    "#Formatting Data\n",
    "\n",
    "prices = {}\n",
    "for i in range(len(_data_)):\n",
    "    prices[tickers[i]] = [float(price) for price in _data_[i]['Adj Close']]\n",
    "    \n",
    "returns = {}\n",
    "for key, value in prices.items():\n",
    "    returns[key] = [np.log(value[i]/value[i+1]) for i in range(len(value)-1)]\n",
    "    \n",
    "returns = pd.DataFrame(returns)\n",
    "print(returns)"
   ]
  },
  {
   "cell_type": "code",
   "execution_count": 118,
   "metadata": {},
   "outputs": [
    {
     "name": "stdout",
     "output_type": "stream",
     "text": [
      "                        ABBV      BABA       JPM       LNG        MA  \\\n",
      "Avg Monthly Return  0.010918  0.025753 -0.016682  0.001926 -0.022493   \n",
      "Monthly Variance    0.005683  0.010845  0.002953  0.011735  0.002108   \n",
      "Avg Annual Return   0.393053  0.927108 -0.600547  0.069335 -0.809753   \n",
      "Annual Variance     0.204573  0.390403  0.106304  0.422477  0.075879   \n",
      "\n",
      "                         MIC       NBL      PYPL      SBUX      WDAY       YUM  \n",
      "Avg Monthly Return  0.010803 -0.001537 -0.023863  0.001819 -0.012795 -0.008185  \n",
      "Monthly Variance    0.009482  0.006583  0.004079  0.002203  0.010459  0.002495  \n",
      "Avg Annual Return   0.388922 -0.055349 -0.859078  0.065467 -0.460636 -0.294674  \n",
      "Annual Variance     0.341338  0.236978  0.146834  0.079294  0.376523  0.089804  \n"
     ]
    }
   ],
   "source": [
    "#Key statistics \n",
    "\n",
    "data = {}\n",
    "for key, value in returns.items():\n",
    "    data[key] = [np.mean(value),np.var(value),np.mean(value)*36,np.var(value)*36]\n",
    "    \n",
    "data = pd.DataFrame(data,['Avg Monthly Return','Monthly Variance','Avg Annual Return','Annual Variance'])\n",
    "print(data)"
   ]
  },
  {
   "cell_type": "code",
   "execution_count": 119,
   "metadata": {},
   "outputs": [
    {
     "name": "stdout",
     "output_type": "stream",
     "text": [
      "          0         1         2         3         4         5         6   \\\n",
      "0   0.204573  0.121576  0.012095 -0.144203  0.019823 -0.027545 -0.036250   \n",
      "1   0.121576  0.390403 -0.032992 -0.138585 -0.021955 -0.089313 -0.035629   \n",
      "2   0.012095 -0.032992  0.106304  0.043601  0.033767  0.045379  0.058556   \n",
      "3  -0.144203 -0.138585  0.043601  0.422477  0.039266  0.061451  0.127548   \n",
      "4   0.019823 -0.021955  0.033767  0.039266  0.075879  0.026643  0.028424   \n",
      "5  -0.027545 -0.089313  0.045379  0.061451  0.026643  0.341338  0.059526   \n",
      "6  -0.036250 -0.035629  0.058556  0.127548  0.028424  0.059526  0.236978   \n",
      "7  -0.017778 -0.067250  0.027177  0.068762  0.071570  0.077154  0.012008   \n",
      "8  -0.017186  0.010254  0.010654  0.015423  0.004152 -0.009548  0.001666   \n",
      "9   0.005654 -0.039443  0.042279  0.123884  0.111774  0.022796  0.047675   \n",
      "10  0.002398  0.028003  0.009564  0.016376  0.002358  0.015672 -0.039493   \n",
      "\n",
      "          7         8         9         10  \n",
      "0  -0.017778 -0.017186  0.005654  0.002398  \n",
      "1  -0.067250  0.010254 -0.039443  0.028003  \n",
      "2   0.027177  0.010654  0.042279  0.009564  \n",
      "3   0.068762  0.015423  0.123884  0.016376  \n",
      "4   0.071570  0.004152  0.111774  0.002358  \n",
      "5   0.077154 -0.009548  0.022796  0.015672  \n",
      "6   0.012008  0.001666  0.047675 -0.039493  \n",
      "7   0.146834  0.010682  0.100661  0.003055  \n",
      "8   0.010682  0.079294  0.048920  0.016586  \n",
      "9   0.100661  0.048920  0.376523  0.056958  \n",
      "10  0.003055  0.016586  0.056958  0.089804  \n"
     ]
    }
   ],
   "source": [
    "#Creating a Variance-Covariance Matrix using a nested for loop\n",
    "\n",
    "var_cov  = []\n",
    "for i in range(len(tickers)):\n",
    "    lis = []\n",
    "    for g in range(len(tickers)):\n",
    "        lis.append(covariance(returns[tickers[i]],returns[tickers[g]])*36)\n",
    "    var_cov.append(lis)\n",
    "\n",
    "print(pd.DataFrame(var_cov))"
   ]
  },
  {
   "cell_type": "code",
   "execution_count": 120,
   "metadata": {},
   "outputs": [
    {
     "name": "stdout",
     "output_type": "stream",
     "text": [
      "\n",
      "---- Equally Weighted Portfolio ----\n",
      "\n",
      "Portfolio Return: -11.238 % (Equally Weighted)\n",
      "Portfolio Standard Deviation: 18.894 % (Equally Weighted)\n",
      "Sharpe Ratio: -0.722 (Equally Weighted)\n"
     ]
    }
   ],
   "source": [
    "#Cross checking code/data against equal weighted allocation results from PortfolioVisualizer\n",
    "\n",
    "risk_free_rate = .024 #1 Year Treasury Rate for Jul 19 2018 Treasury Bill \n",
    "weights = pd.DataFrame([1/11 for i in range(11)])\n",
    "returns = data.loc['Avg Annual Return']\n",
    "\n",
    "print()\n",
    "portfolio_return = np.dot(weights.T,returns)\n",
    "portfolio_std = np.dot(np.dot(weights.T,var_cov),weights)**.5\n",
    "\n",
    "print(\"---- Equally Weighted Portfolio ----\")\n",
    "print()\n",
    "print('Portfolio Return: %.3f %s (Equally Weighted)' % ((portfolio_return[0]*100),'%'))\n",
    "print('Portfolio Standard Deviation: %.3f %s (Equally Weighted)' % ((portfolio_std[0][0]*100),'%'))\n",
    "print('Sharpe Ratio: %.3f (Equally Weighted)' % (sharpe_ratio(portfolio_return,risk_free_rate,portfolio_std)))"
   ]
  },
  {
   "cell_type": "code",
   "execution_count": 121,
   "metadata": {},
   "outputs": [
    {
     "name": "stdout",
     "output_type": "stream",
     "text": [
      "          0         1         2         3         4         5         6   \\\n",
      "C0  0.152098  0.109578  0.136897  0.106909  0.042896  0.104824  0.131402   \n",
      "C1  0.081346  0.103566  0.101319  0.083185  0.125032  0.125076  0.115081   \n",
      "C2  0.050775  0.133559  0.091773  0.144685  0.052370  0.096227  0.043580   \n",
      "C3  0.181910  0.098947  0.050237  0.160469  0.021863  0.060058  0.033693   \n",
      "C4  0.104703  0.080557  0.088986  0.085638  0.133673  0.113719  0.129779   \n",
      "\n",
      "          7         8         9         10  \n",
      "C0  0.002159  0.038070  0.134490  0.040678  \n",
      "C1  0.043636  0.051099  0.144259  0.026400  \n",
      "C2  0.084641  0.137947  0.142005  0.022438  \n",
      "C3  0.138482  0.037662  0.071274  0.145405  \n",
      "C4  0.058449  0.016210  0.094690  0.093595  \n",
      "\n",
      "-------------------------------------\n",
      "\n",
      "       P_Return     P_STD  Sharpe Ratio\n",
      "C9995 -0.169892  0.210246     -0.922215\n",
      "C9996 -0.072297  0.195487     -0.492598\n",
      "C9997 -0.249853  0.199503     -1.372673\n",
      "C9998 -0.373065  0.203771     -1.948589\n",
      "C9999 -0.125620  0.214288     -0.698222\n"
     ]
    }
   ],
   "source": [
    "#Generating portfolio weights to simulate portfolios (200,000 Portfolios)\n",
    "\n",
    "weights = []\n",
    "for i in range(10000):\n",
    "    x = list(np.random.random(11))\n",
    "    x = [i/sum(x) for i in x]\n",
    "    weights.append(x)\n",
    "weights = pd.DataFrame(weights,['C%d' % i for i in range(len(weights))])\n",
    "\n",
    "print(weights.head())\n",
    "print()\n",
    "print('-------------------------------------')\n",
    "print()\n",
    "\n",
    "#Numerically solving for optimal portfolio\n",
    "\n",
    "portfolios = {}\n",
    "\n",
    "portfolios['P_Return'] = list([float(np.dot(list(weights.loc['C%d'%i]),returns)) for i in range(len(weights))])\n",
    "portfolios['P_STD'] = list([np.sqrt(np.dot(np.dot(list(weights.loc['C%d'%i]),var_cov),weights.loc['C%d'%i])) for i in range(len(weights))])\n",
    "portfolios['Sharpe Ratio'] = [sharpe_ratio(portfolios['P_Return'][i],risk_free_rate,portfolios['P_STD'][i]) for i in range(len(weights))]\n",
    "portfolio_metrics = pd.DataFrame(portfolios,['C%d' % i for i in range(len(weights))])\n",
    "\n",
    "print(portfolio_metrics.tail())"
   ]
  },
  {
   "cell_type": "code",
   "execution_count": 122,
   "metadata": {},
   "outputs": [
    {
     "name": "stdout",
     "output_type": "stream",
     "text": [
      "---- Optimized Portfolio Weights ----\n",
      "       ABBV      BABA      JPM       LNG        MA       MIC       NBL  \\\n",
      "0  0.122904  0.255164  0.02661  0.070725  0.003699  0.282091  0.042036   \n",
      "\n",
      "       PYPL     SBUX      WDAY       YUM  \n",
      "0  0.001492  0.14617  0.002565  0.046544  \n",
      "\n",
      "-------------------------------------\n",
      "\n",
      "Portfolio Return: 37.157 %\n",
      "Portfolio Standard Deviation: 22.562 %\n",
      "Sharpe Ratio: 1.541\n",
      "\n",
      "-------------------------------------\n"
     ]
    },
    {
     "data": {
      "image/png": "[encoded data removed]",
      "text/plain": [
       "<matplotlib.figure.Figure at 0x10fb97160>"
      ]
     },
     "metadata": {},
     "output_type": "display_data"
    }
   ],
   "source": [
    "#Finding the portfolio weights that offer the best risk adjusted return \n",
    "\n",
    "maxx = [i for i, j in enumerate(portfolios['Sharpe Ratio']) if j == max(portfolios['Sharpe Ratio'])]\n",
    "optimal_weights = pd.DataFrame((list(weights.loc['C%d'%(maxx[0])])),tickers)\n",
    "print(\"---- Optimized Portfolio Weights ----\")\n",
    "print(optimal_weights.T)\n",
    "print()\n",
    "print('-------------------------------------')\n",
    "print()\n",
    "conclusion = list(portfolio_metrics.loc[\"C%d\"%(maxx[0])])\n",
    "\n",
    "print('Portfolio Return: %.3f %s' % (conclusion[0]*100,'%'))\n",
    "print('Portfolio Standard Deviation: %.3f %s' % (conclusion[1]*100,'%'))\n",
    "print('Sharpe Ratio: %.3f' % (conclusion[2]))\n",
    "print()\n",
    "print('-------------------------------------')\n",
    "\n",
    "def capital_allocation_line(): #Rp = RFR + SR(Psigma)\n",
    "    x = [i/800000 for i in range(0,135000)]\n",
    "    y = [(conclusion[2]*i)+risk_free_rate for i in x]\n",
    "    return x,y\n",
    "\n",
    "plt.style.use('seaborn')\n",
    "plt.figure(figsize=(15, 10))\n",
    "plt.scatter(portfolios['P_STD'],portfolios['P_Return'],cmap='afmhot', marker='o', s=35, alpha=0.02)\n",
    "plt.scatter(conclusion[1],conclusion[0], marker = 'D',s=100,c='r')\n",
    "x,y = capital_allocation_line()\n",
    "\n",
    "plt.scatter(x,y,marker='.', color = 'k', s=1, )\n",
    "plt.ylim((0,0.6))\n",
    "plt.xlabel('Volatility (σ)')\n",
    "plt.ylabel('Returns')\n",
    "plt.title('Efficient Frontier')\n",
    "\n",
    "plt.show()"
   ]
  },
  {
   "cell_type": "code",
   "execution_count": 53,
   "metadata": {},
   "outputs": [],
   "source": [
    "# French-Fama 3 Factor Regression Analysis \n",
    "\n",
    "data = pd.read_csv('/Users/landonbuechner/Documents/Finance/Portfolio Optimization/3_factors.csv')\n"
   ]
  },
  {
   "cell_type": "code",
   "execution_count": null,
   "metadata": {},
   "outputs": [],
   "source": []
  }
 ],
 "metadata": {
  "kernelspec": {
   "display_name": "Python 3",
   "language": "python",
   "name": "python3"
  },
  "language_info": {
   "codemirror_mode": {
    "name": "ipython",
    "version": 3
   },
   "file_extension": ".py",
   "mimetype": "text/x-python",
   "name": "python",
   "nbconvert_exporter": "python",
   "pygments_lexer": "ipython3",
   "version": "3.6.3"
  }
 },
 "nbformat": 4,
 "nbformat_minor": 2
}
